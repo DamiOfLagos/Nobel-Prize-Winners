{
 "cells":[
  {
   "cell_type":"code",
   "source":[
    "import matplotlib.pyplot as plt;\n",
    "import pandas as pd;\n",
    "import plotly.express as px;"
   ],
   "execution_count":1,
   "outputs":[
    
   ],
   "metadata":{
    "datalore":{
     "type":"CODE",
     "hide_input_from_viewers":false,
     "hide_output_from_viewers":false
    }
   }
  },
  {
   "cell_type":"code",
   "source":[
    "df = pd.read_csv(\"Onyx Data - DataDNA Dataset Challenge - April 2022 - Nobel Prize Winners.csv\")\n",
    "df.head(5)"
   ],
   "execution_count":2,
   "outputs":[
    {
     "data":{
      "text\/html":[
       "<div>\n",
       "<style scoped>\n",
       "    .dataframe tbody tr th:only-of-type {\n",
       "        vertical-align: middle;\n",
       "    }\n",
       "\n",
       "    .dataframe tbody tr th {\n",
       "        vertical-align: top;\n",
       "    }\n",
       "\n",
       "    .dataframe thead th {\n",
       "        text-align: right;\n",
       "    }\n",
       "<\/style>\n",
       "<table border=\"1\" class=\"dataframe\">\n",
       "  <thead>\n",
       "    <tr style=\"text-align: right;\">\n",
       "      <th><\/th>\n",
       "      <th>firstname<\/th>\n",
       "      <th>surname<\/th>\n",
       "      <th>born_country_code<\/th>\n",
       "      <th>died_country_code<\/th>\n",
       "      <th>gender<\/th>\n",
       "      <th>year<\/th>\n",
       "      <th>category<\/th>\n",
       "      <th>share<\/th>\n",
       "      <th>name_of_university<\/th>\n",
       "      <th>city_of_university<\/th>\n",
       "      <th>country_of_university<\/th>\n",
       "      <th>born_month<\/th>\n",
       "      <th>age<\/th>\n",
       "      <th>age_get_prize<\/th>\n",
       "    <\/tr>\n",
       "  <\/thead>\n",
       "  <tbody>\n",
       "    <tr>\n",
       "      <th>0<\/th>\n",
       "      <td>Wilhelm Conrad<\/td>\n",
       "      <td>Röntgen<\/td>\n",
       "      <td>DE<\/td>\n",
       "      <td>DE<\/td>\n",
       "      <td>male<\/td>\n",
       "      <td>1901<\/td>\n",
       "      <td>physics<\/td>\n",
       "      <td>1<\/td>\n",
       "      <td>Munich University<\/td>\n",
       "      <td>Munich<\/td>\n",
       "      <td>Germany<\/td>\n",
       "      <td>Mar<\/td>\n",
       "      <td>78<\/td>\n",
       "      <td>56<\/td>\n",
       "    <\/tr>\n",
       "    <tr>\n",
       "      <th>1<\/th>\n",
       "      <td>Hendrik A.<\/td>\n",
       "      <td>Lorentz<\/td>\n",
       "      <td>NL<\/td>\n",
       "      <td>NL<\/td>\n",
       "      <td>male<\/td>\n",
       "      <td>1902<\/td>\n",
       "      <td>physics<\/td>\n",
       "      <td>2<\/td>\n",
       "      <td>Leiden University<\/td>\n",
       "      <td>Leiden<\/td>\n",
       "      <td>the Netherlands<\/td>\n",
       "      <td>Jul<\/td>\n",
       "      <td>75<\/td>\n",
       "      <td>49<\/td>\n",
       "    <\/tr>\n",
       "    <tr>\n",
       "      <th>2<\/th>\n",
       "      <td>Pieter<\/td>\n",
       "      <td>Zeeman<\/td>\n",
       "      <td>NL<\/td>\n",
       "      <td>NL<\/td>\n",
       "      <td>male<\/td>\n",
       "      <td>1902<\/td>\n",
       "      <td>physics<\/td>\n",
       "      <td>2<\/td>\n",
       "      <td>Amsterdam University<\/td>\n",
       "      <td>Amsterdam<\/td>\n",
       "      <td>the Netherlands<\/td>\n",
       "      <td>May<\/td>\n",
       "      <td>78<\/td>\n",
       "      <td>37<\/td>\n",
       "    <\/tr>\n",
       "    <tr>\n",
       "      <th>3<\/th>\n",
       "      <td>Henri<\/td>\n",
       "      <td>Becquerel<\/td>\n",
       "      <td>FR<\/td>\n",
       "      <td>FR<\/td>\n",
       "      <td>male<\/td>\n",
       "      <td>1903<\/td>\n",
       "      <td>physics<\/td>\n",
       "      <td>2<\/td>\n",
       "      <td>École Polytechnique<\/td>\n",
       "      <td>Paris<\/td>\n",
       "      <td>France<\/td>\n",
       "      <td>Dec<\/td>\n",
       "      <td>56<\/td>\n",
       "      <td>51<\/td>\n",
       "    <\/tr>\n",
       "    <tr>\n",
       "      <th>4<\/th>\n",
       "      <td>Pierre<\/td>\n",
       "      <td>Curie<\/td>\n",
       "      <td>FR<\/td>\n",
       "      <td>FR<\/td>\n",
       "      <td>male<\/td>\n",
       "      <td>1903<\/td>\n",
       "      <td>physics<\/td>\n",
       "      <td>4<\/td>\n",
       "      <td>École municipale de physique et de chimie indu...<\/td>\n",
       "      <td>Paris<\/td>\n",
       "      <td>France<\/td>\n",
       "      <td>May<\/td>\n",
       "      <td>47<\/td>\n",
       "      <td>44<\/td>\n",
       "    <\/tr>\n",
       "  <\/tbody>\n",
       "<\/table>\n",
       "<\/div>"
      ]
     },
     "metadata":{
      
     },
     "output_type":"display_data"
    }
   ],
   "metadata":{
    "datalore":{
     "type":"CODE",
     "hide_input_from_viewers":false,
     "hide_output_from_viewers":false
    }
   }
  },
  {
   "cell_type":"code",
   "source":[
    "df.shape"
   ],
   "execution_count":3,
   "outputs":[
    {
     "data":{
      "text\/plain":[
       "(923, 14)"
      ]
     },
     "metadata":{
      
     },
     "output_type":"display_data"
    }
   ],
   "metadata":{
    "datalore":{
     "type":"CODE",
     "hide_input_from_viewers":false,
     "hide_output_from_viewers":false
    }
   }
  },
  {
   "cell_type":"code",
   "source":[
    "df.info()"
   ],
   "execution_count":4,
   "outputs":[
    {
     "name":"stdout",
     "text":[
      "<class 'pandas.core.frame.DataFrame'>\n",
      "RangeIndex: 923 entries, 0 to 922\n",
      "Data columns (total 14 columns):\n",
      " #   Column                 Non-Null Count  Dtype \n",
      "---  ------                 --------------  ----- \n",
      " 0   firstname              923 non-null    object\n",
      " 1   surname                921 non-null    object\n",
      " 2   born_country_code      923 non-null    object\n",
      " 3   died_country_code      617 non-null    object\n",
      " 4   gender                 923 non-null    object\n",
      " 5   year                   923 non-null    int64 \n",
      " 6   category               923 non-null    object\n",
      " 7   share                  923 non-null    int64 \n",
      " 8   name_of_university     697 non-null    object\n",
      " 9   city_of_university     692 non-null    object\n",
      " 10  country_of_university  693 non-null    object\n",
      " 11  born_month             923 non-null    object\n",
      " 12  age                    923 non-null    int64 \n",
      " 13  age_get_prize          923 non-null    int64 \n",
      "dtypes: int64(4), object(10)\n",
      "memory usage: 101.1+ KB\n"
     ],
     "output_type":"stream"
    }
   ],
   "metadata":{
    "datalore":{
     "type":"CODE",
     "hide_input_from_viewers":false,
     "hide_output_from_viewers":false
    }
   }
  },
  {
   "cell_type":"code",
   "source":[
    "df.isnull().sum()"
   ],
   "execution_count":5,
   "outputs":[
    {
     "data":{
      "text\/html":[
       
      ]
     },
     "metadata":{
      
     },
     "output_type":"display_data"
    }
   ],
   "metadata":{
    "datalore":{
     "type":"CODE",
     "hide_input_from_viewers":false,
     "hide_output_from_viewers":false
    }
   }
  },
  {
   "cell_type":"code",
   "source":[
    "df[\"died_country_code\"].fillna(\"No Country of death\", inplace = True)\n",
    "df[\"name_of_university\"].fillna(\"No University name\", inplace = True)\n",
    "df[\"city_of_university\"].fillna(\"No University city\", inplace = True)\n",
    "df[\"country_of_university\"].fillna(\"No University country\", inplace = True)"
   ],
   "execution_count":6,
   "outputs":[
    
   ],
   "metadata":{
    "datalore":{
     "type":"CODE",
     "hide_input_from_viewers":false,
     "hide_output_from_viewers":false
    }
   }
  },
  {
   "cell_type":"code",
   "source":[
    "df.isnull().sum()"
   ],
   "execution_count":7,
   "outputs":[
    {
     "data":{
      "text\/html":[
       
      ]
     },
     "metadata":{
      
     },
     "output_type":"display_data"
    }
   ],
   "metadata":{
    "datalore":{
     "type":"CODE",
     "hide_input_from_viewers":false,
     "hide_output_from_viewers":false
    }
   }
  },
  {
   "cell_type":"markdown",
   "source":[
    "### Question 1: What countries have produced the most Nobel Price winners? (Top 10)**"
   ],
   "attachments":{
    
   },
   "metadata":{
    "datalore":{
     "type":"MD",
     "hide_input_from_viewers":false,
     "hide_output_from_viewers":false
    }
   }
  },
  {
   "cell_type":"code",
   "source":[
    "country_code = pd.read_csv(\"wikipedia-iso-country-codes (1).csv\")\n",
    "country_code.head()"
   ],
   "execution_count":8,
   "outputs":[
    {
     "data":{
      "text\/html":[
       "<div>\n",
       "<style scoped>\n",
       "    .dataframe tbody tr th:only-of-type {\n",
       "        vertical-align: middle;\n",
       "    }\n",
       "\n",
       "    .dataframe tbody tr th {\n",
       "        vertical-align: top;\n",
       "    }\n",
       "\n",
       "    .dataframe thead th {\n",
       "        text-align: right;\n",
       "    }\n",
       "<\/style>\n",
       "<table border=\"1\" class=\"dataframe\">\n",
       "  <thead>\n",
       "    <tr style=\"text-align: right;\">\n",
       "      <th><\/th>\n",
       "      <th>English short name lower case<\/th>\n",
       "      <th>Alpha-2 code<\/th>\n",
       "      <th>Alpha-3 code<\/th>\n",
       "      <th>Numeric code<\/th>\n",
       "      <th>ISO 3166-2<\/th>\n",
       "    <\/tr>\n",
       "  <\/thead>\n",
       "  <tbody>\n",
       "    <tr>\n",
       "      <th>0<\/th>\n",
       "      <td>Zimbabwe<\/td>\n",
       "      <td>ZW<\/td>\n",
       "      <td>ZWE<\/td>\n",
       "      <td>716<\/td>\n",
       "      <td>ISO 3166-2:ZW<\/td>\n",
       "    <\/tr>\n",
       "    <tr>\n",
       "      <th>1<\/th>\n",
       "      <td>Zambia<\/td>\n",
       "      <td>ZM<\/td>\n",
       "      <td>ZMB<\/td>\n",
       "      <td>894<\/td>\n",
       "      <td>ISO 3166-2:ZM<\/td>\n",
       "    <\/tr>\n",
       "    <tr>\n",
       "      <th>2<\/th>\n",
       "      <td>Yemen<\/td>\n",
       "      <td>YE<\/td>\n",
       "      <td>YEM<\/td>\n",
       "      <td>887<\/td>\n",
       "      <td>ISO 3166-2:YE<\/td>\n",
       "    <\/tr>\n",
       "    <tr>\n",
       "      <th>3<\/th>\n",
       "      <td>Western Sahara<\/td>\n",
       "      <td>EH<\/td>\n",
       "      <td>ESH<\/td>\n",
       "      <td>732<\/td>\n",
       "      <td>ISO 3166-2:EH<\/td>\n",
       "    <\/tr>\n",
       "    <tr>\n",
       "      <th>4<\/th>\n",
       "      <td>Wallis and Futuna<\/td>\n",
       "      <td>WF<\/td>\n",
       "      <td>WLF<\/td>\n",
       "      <td>876<\/td>\n",
       "      <td>ISO 3166-2:WF<\/td>\n",
       "    <\/tr>\n",
       "  <\/tbody>\n",
       "<\/table>\n",
       "<\/div>"
      ]
     },
     "metadata":{
      
     },
     "output_type":"display_data"
    }
   ],
   "metadata":{
    "datalore":{
     "type":"CODE",
     "hide_input_from_viewers":false,
     "hide_output_from_viewers":false
    }
   }
  },
  {
   "cell_type":"code",
   "source":[
    "df1 = df.merge(country_code,\n",
    "    left_on='born_country_code',\n",
    "    right_on='Alpha-2 code',\n",
    "    how='left'\n",
    ")\n",
    "\n",
    "df1.head(5)"
   ],
   "execution_count":9,
   "outputs":[
    {
     "data":{
      "text\/html":[
       "<div>\n",
       "<style scoped>\n",
       "    .dataframe tbody tr th:only-of-type {\n",
       "        vertical-align: middle;\n",
       "    }\n",
       "\n",
       "    .dataframe tbody tr th {\n",
       "        vertical-align: top;\n",
       "    }\n",
       "\n",
       "    .dataframe thead th {\n",
       "        text-align: right;\n",
       "    }\n",
       "<\/style>\n",
       "<table border=\"1\" class=\"dataframe\">\n",
       "  <thead>\n",
       "    <tr style=\"text-align: right;\">\n",
       "      <th><\/th>\n",
       "      <th>firstname<\/th>\n",
       "      <th>surname<\/th>\n",
       "      <th>born_country_code<\/th>\n",
       "      <th>died_country_code<\/th>\n",
       "      <th>gender<\/th>\n",
       "      <th>year<\/th>\n",
       "      <th>category<\/th>\n",
       "      <th>share<\/th>\n",
       "      <th>name_of_university<\/th>\n",
       "      <th>city_of_university<\/th>\n",
       "      <th>country_of_university<\/th>\n",
       "      <th>born_month<\/th>\n",
       "      <th>age<\/th>\n",
       "      <th>age_get_prize<\/th>\n",
       "      <th>English short name lower case<\/th>\n",
       "      <th>Alpha-2 code<\/th>\n",
       "      <th>Alpha-3 code<\/th>\n",
       "      <th>Numeric code<\/th>\n",
       "      <th>ISO 3166-2<\/th>\n",
       "    <\/tr>\n",
       "  <\/thead>\n",
       "  <tbody>\n",
       "    <tr>\n",
       "      <th>0<\/th>\n",
       "      <td>Wilhelm Conrad<\/td>\n",
       "      <td>Röntgen<\/td>\n",
       "      <td>DE<\/td>\n",
       "      <td>DE<\/td>\n",
       "      <td>male<\/td>\n",
       "      <td>1901<\/td>\n",
       "      <td>physics<\/td>\n",
       "      <td>1<\/td>\n",
       "      <td>Munich University<\/td>\n",
       "      <td>Munich<\/td>\n",
       "      <td>Germany<\/td>\n",
       "      <td>Mar<\/td>\n",
       "      <td>78<\/td>\n",
       "      <td>56<\/td>\n",
       "      <td>Germany<\/td>\n",
       "      <td>DE<\/td>\n",
       "      <td>DEU<\/td>\n",
       "      <td>276<\/td>\n",
       "      <td>ISO 3166-2:DE<\/td>\n",
       "    <\/tr>\n",
       "    <tr>\n",
       "      <th>1<\/th>\n",
       "      <td>Hendrik A.<\/td>\n",
       "      <td>Lorentz<\/td>\n",
       "      <td>NL<\/td>\n",
       "      <td>NL<\/td>\n",
       "      <td>male<\/td>\n",
       "      <td>1902<\/td>\n",
       "      <td>physics<\/td>\n",
       "      <td>2<\/td>\n",
       "      <td>Leiden University<\/td>\n",
       "      <td>Leiden<\/td>\n",
       "      <td>the Netherlands<\/td>\n",
       "      <td>Jul<\/td>\n",
       "      <td>75<\/td>\n",
       "      <td>49<\/td>\n",
       "      <td>Netherlands<\/td>\n",
       "      <td>NL<\/td>\n",
       "      <td>NLD<\/td>\n",
       "      <td>528<\/td>\n",
       "      <td>ISO 3166-2:NL<\/td>\n",
       "    <\/tr>\n",
       "    <tr>\n",
       "      <th>2<\/th>\n",
       "      <td>Pieter<\/td>\n",
       "      <td>Zeeman<\/td>\n",
       "      <td>NL<\/td>\n",
       "      <td>NL<\/td>\n",
       "      <td>male<\/td>\n",
       "      <td>1902<\/td>\n",
       "      <td>physics<\/td>\n",
       "      <td>2<\/td>\n",
       "      <td>Amsterdam University<\/td>\n",
       "      <td>Amsterdam<\/td>\n",
       "      <td>the Netherlands<\/td>\n",
       "      <td>May<\/td>\n",
       "      <td>78<\/td>\n",
       "      <td>37<\/td>\n",
       "      <td>Netherlands<\/td>\n",
       "      <td>NL<\/td>\n",
       "      <td>NLD<\/td>\n",
       "      <td>528<\/td>\n",
       "      <td>ISO 3166-2:NL<\/td>\n",
       "    <\/tr>\n",
       "    <tr>\n",
       "      <th>3<\/th>\n",
       "      <td>Henri<\/td>\n",
       "      <td>Becquerel<\/td>\n",
       "      <td>FR<\/td>\n",
       "      <td>FR<\/td>\n",
       "      <td>male<\/td>\n",
       "      <td>1903<\/td>\n",
       "      <td>physics<\/td>\n",
       "      <td>2<\/td>\n",
       "      <td>École Polytechnique<\/td>\n",
       "      <td>Paris<\/td>\n",
       "      <td>France<\/td>\n",
       "      <td>Dec<\/td>\n",
       "      <td>56<\/td>\n",
       "      <td>51<\/td>\n",
       "      <td>France<\/td>\n",
       "      <td>FR<\/td>\n",
       "      <td>FRA<\/td>\n",
       "      <td>250<\/td>\n",
       "      <td>ISO 3166-2:FR<\/td>\n",
       "    <\/tr>\n",
       "    <tr>\n",
       "      <th>4<\/th>\n",
       "      <td>Pierre<\/td>\n",
       "      <td>Curie<\/td>\n",
       "      <td>FR<\/td>\n",
       "      <td>FR<\/td>\n",
       "      <td>male<\/td>\n",
       "      <td>1903<\/td>\n",
       "      <td>physics<\/td>\n",
       "      <td>4<\/td>\n",
       "      <td>École municipale de physique et de chimie indu...<\/td>\n",
       "      <td>Paris<\/td>\n",
       "      <td>France<\/td>\n",
       "      <td>May<\/td>\n",
       "      <td>47<\/td>\n",
       "      <td>44<\/td>\n",
       "      <td>France<\/td>\n",
       "      <td>FR<\/td>\n",
       "      <td>FRA<\/td>\n",
       "      <td>250<\/td>\n",
       "      <td>ISO 3166-2:FR<\/td>\n",
       "    <\/tr>\n",
       "  <\/tbody>\n",
       "<\/table>\n",
       "<\/div>"
      ]
     },
     "metadata":{
      
     },
     "output_type":"display_data"
    }
   ],
   "metadata":{
    "datalore":{
     "type":"CODE",
     "hide_input_from_viewers":false,
     "hide_output_from_viewers":false
    }
   }
  },
  {
   "cell_type":"code",
   "source":[
    "df1.drop(columns=['ISO 3166-2', 'Numeric code', 'Alpha-3 code'], inplace=True)\n",
    "df1.info()"
   ],
   "execution_count":10,
   "outputs":[
    {
     "name":"stdout",
     "text":[
      "<class 'pandas.core.frame.DataFrame'>\n",
      "Int64Index: 923 entries, 0 to 922\n",
      "Data columns (total 16 columns):\n",
      " #   Column                         Non-Null Count  Dtype \n",
      "---  ------                         --------------  ----- \n",
      " 0   firstname                      923 non-null    object\n",
      " 1   surname                        921 non-null    object\n",
      " 2   born_country_code              923 non-null    object\n",
      " 3   died_country_code              923 non-null    object\n",
      " 4   gender                         923 non-null    object\n",
      " 5   year                           923 non-null    int64 \n",
      " 6   category                       923 non-null    object\n",
      " 7   share                          923 non-null    int64 \n",
      " 8   name_of_university             923 non-null    object\n",
      " 9   city_of_university             923 non-null    object\n",
      " 10  country_of_university          923 non-null    object\n",
      " 11  born_month                     923 non-null    object\n",
      " 12  age                            923 non-null    int64 \n",
      " 13  age_get_prize                  923 non-null    int64 \n",
      " 14  English short name lower case  923 non-null    object\n",
      " 15  Alpha-2 code                   923 non-null    object\n",
      "dtypes: int64(4), object(12)\n",
      "memory usage: 122.6+ KB\n"
     ],
     "output_type":"stream"
    }
   ],
   "metadata":{
    "datalore":{
     "type":"CODE",
     "hide_input_from_viewers":false,
     "hide_output_from_viewers":false
    }
   }
  },
  {
   "cell_type":"code",
   "source":[
    "df1.rename(columns={'English short name lower case': 'Country_of_Birth'}, inplace=True)\n",
    "df1.info()"
   ],
   "execution_count":11,
   "outputs":[
    {
     "name":"stdout",
     "text":[
      "<class 'pandas.core.frame.DataFrame'>\n",
      "Int64Index: 923 entries, 0 to 922\n",
      "Data columns (total 16 columns):\n",
      " #   Column                 Non-Null Count  Dtype \n",
      "---  ------                 --------------  ----- \n",
      " 0   firstname              923 non-null    object\n",
      " 1   surname                921 non-null    object\n",
      " 2   born_country_code      923 non-null    object\n",
      " 3   died_country_code      923 non-null    object\n",
      " 4   gender                 923 non-null    object\n",
      " 5   year                   923 non-null    int64 \n",
      " 6   category               923 non-null    object\n",
      " 7   share                  923 non-null    int64 \n",
      " 8   name_of_university     923 non-null    object\n",
      " 9   city_of_university     923 non-null    object\n",
      " 10  country_of_university  923 non-null    object\n",
      " 11  born_month             923 non-null    object\n",
      " 12  age                    923 non-null    int64 \n",
      " 13  age_get_prize          923 non-null    int64 \n",
      " 14  Country_of_Birth       923 non-null    object\n",
      " 15  Alpha-2 code           923 non-null    object\n",
      "dtypes: int64(4), object(12)\n",
      "memory usage: 122.6+ KB\n"
     ],
     "output_type":"stream"
    }
   ],
   "metadata":{
    "datalore":{
     "type":"CODE",
     "hide_input_from_viewers":false,
     "hide_output_from_viewers":false
    }
   }
  },
  {
   "cell_type":"code",
   "source":[
    "Winner_per_country = df1.groupby('Country_of_Birth')['surname'].count().head(10).sort_values(ascending=False)\n",
    "Winner_per_country"
   ],
   "execution_count":12,
   "outputs":[
    {
     "data":{
      "text\/html":[
       
      ]
     },
     "metadata":{
      
     },
     "output_type":"display_data"
    }
   ],
   "metadata":{
    "datalore":{
     "type":"CODE",
     "hide_input_from_viewers":false,
     "hide_output_from_viewers":false
    }
   }
  },
  {
   "cell_type":"code",
   "source":[
    "Winner_per_country.plot(\n",
    "    kind=\"bar\",\n",
    "    figsize=(15, 5),\n",
    "    ylabel=\"Number of Nobel Price Winners\",\n",
    "    xlabel=\"Countries\",\n",
    "    color=\"red\",\n",
    ");"
   ],
   "execution_count":14,
   "outputs":[
    {
     "data":{
      "image\/png":"[encoded data removed]"
     },
     "metadata":{
      "image\/png":{
       
      }
     },
     "output_type":"display_data"
    }
   ],
   "metadata":{
    "datalore":{
     "type":"CODE",
     "hide_input_from_viewers":false,
     "hide_output_from_viewers":false
    }
   }
  },
  {
   "cell_type":"code",
   "source":[
    
   ],
   "execution_count":null,
   "outputs":[
    
   ],
   "metadata":{
    "datalore":{
     "type":"CODE",
     "hide_input_from_viewers":false,
     "hide_output_from_viewers":false
    }
   }
  }
 ],
 "metadata":{
  "datalore":{
   "version":1,
   "computation_mode":"REACTIVE",
   "package_manager":"pip",
   "base_environment":"default",
   "packages":[
    
   ]
  }
 },
 "nbformat":4,
 "nbformat_minor":4
}