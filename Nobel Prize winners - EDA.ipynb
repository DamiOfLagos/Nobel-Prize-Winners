{
 "cells": [
  {
   "cell_type": "code",
   "execution_count": 11,
   "metadata": {
    "datalore": {
     "hide_input_from_viewers": false,
     "hide_output_from_viewers": false,
     "type": "CODE"
    }
   },
   "outputs": [],
   "source": [
    "import matplotlib.pyplot as plt;\n",
    "import pandas as pd;"
   ]
  },
  {
   "cell_type": "code",
   "execution_count": 12,
   "metadata": {
    "datalore": {
     "hide_input_from_viewers": false,
     "hide_output_from_viewers": false,
     "type": "CODE"
    }
   },
   "outputs": [
    {
     "data": {
      "text/html": [
       "<div>\n",
       "<style scoped>\n",
       "    .dataframe tbody tr th:only-of-type {\n",
       "        vertical-align: middle;\n",
       "    }\n",
       "\n",
       "    .dataframe tbody tr th {\n",
       "        vertical-align: top;\n",
       "    }\n",
       "\n",
       "    .dataframe thead th {\n",
       "        text-align: right;\n",
       "    }\n",
       "</style>\n",
       "<table border=\"1\" class=\"dataframe\">\n",
       "  <thead>\n",
       "    <tr style=\"text-align: right;\">\n",
       "      <th></th>\n",
       "      <th>firstname</th>\n",
       "      <th>surname</th>\n",
       "      <th>born_country_code</th>\n",
       "      <th>died_country_code</th>\n",
       "      <th>gender</th>\n",
       "      <th>year</th>\n",
       "      <th>category</th>\n",
       "      <th>share</th>\n",
       "      <th>name_of_university</th>\n",
       "      <th>city_of_university</th>\n",
       "      <th>country_of_university</th>\n",
       "      <th>born_month</th>\n",
       "      <th>age</th>\n",
       "      <th>age_get_prize</th>\n",
       "    </tr>\n",
       "  </thead>\n",
       "  <tbody>\n",
       "    <tr>\n",
       "      <th>0</th>\n",
       "      <td>Wilhelm Conrad</td>\n",
       "      <td>Röntgen</td>\n",
       "      <td>DE</td>\n",
       "      <td>DE</td>\n",
       "      <td>male</td>\n",
       "      <td>1901</td>\n",
       "      <td>physics</td>\n",
       "      <td>1</td>\n",
       "      <td>Munich University</td>\n",
       "      <td>Munich</td>\n",
       "      <td>Germany</td>\n",
       "      <td>Mar</td>\n",
       "      <td>78</td>\n",
       "      <td>56</td>\n",
       "    </tr>\n",
       "    <tr>\n",
       "      <th>1</th>\n",
       "      <td>Hendrik A.</td>\n",
       "      <td>Lorentz</td>\n",
       "      <td>NL</td>\n",
       "      <td>NL</td>\n",
       "      <td>male</td>\n",
       "      <td>1902</td>\n",
       "      <td>physics</td>\n",
       "      <td>2</td>\n",
       "      <td>Leiden University</td>\n",
       "      <td>Leiden</td>\n",
       "      <td>the Netherlands</td>\n",
       "      <td>Jul</td>\n",
       "      <td>75</td>\n",
       "      <td>49</td>\n",
       "    </tr>\n",
       "    <tr>\n",
       "      <th>2</th>\n",
       "      <td>Pieter</td>\n",
       "      <td>Zeeman</td>\n",
       "      <td>NL</td>\n",
       "      <td>NL</td>\n",
       "      <td>male</td>\n",
       "      <td>1902</td>\n",
       "      <td>physics</td>\n",
       "      <td>2</td>\n",
       "      <td>Amsterdam University</td>\n",
       "      <td>Amsterdam</td>\n",
       "      <td>the Netherlands</td>\n",
       "      <td>May</td>\n",
       "      <td>78</td>\n",
       "      <td>37</td>\n",
       "    </tr>\n",
       "    <tr>\n",
       "      <th>3</th>\n",
       "      <td>Henri</td>\n",
       "      <td>Becquerel</td>\n",
       "      <td>FR</td>\n",
       "      <td>FR</td>\n",
       "      <td>male</td>\n",
       "      <td>1903</td>\n",
       "      <td>physics</td>\n",
       "      <td>2</td>\n",
       "      <td>École Polytechnique</td>\n",
       "      <td>Paris</td>\n",
       "      <td>France</td>\n",
       "      <td>Dec</td>\n",
       "      <td>56</td>\n",
       "      <td>51</td>\n",
       "    </tr>\n",
       "    <tr>\n",
       "      <th>4</th>\n",
       "      <td>Pierre</td>\n",
       "      <td>Curie</td>\n",
       "      <td>FR</td>\n",
       "      <td>FR</td>\n",
       "      <td>male</td>\n",
       "      <td>1903</td>\n",
       "      <td>physics</td>\n",
       "      <td>4</td>\n",
       "      <td>École municipale de physique et de chimie indu...</td>\n",
       "      <td>Paris</td>\n",
       "      <td>France</td>\n",
       "      <td>May</td>\n",
       "      <td>47</td>\n",
       "      <td>44</td>\n",
       "    </tr>\n",
       "  </tbody>\n",
       "</table>\n",
       "</div>"
      ],
      "text/plain": [
       "        firstname    surname born_country_code died_country_code gender  year  \\\n",
       "0  Wilhelm Conrad    Röntgen                DE                DE   male  1901   \n",
       "1      Hendrik A.    Lorentz                NL                NL   male  1902   \n",
       "2          Pieter     Zeeman                NL                NL   male  1902   \n",
       "3           Henri  Becquerel                FR                FR   male  1903   \n",
       "4          Pierre      Curie                FR                FR   male  1903   \n",
       "\n",
       "  category  share                                 name_of_university  \\\n",
       "0  physics      1                                  Munich University   \n",
       "1  physics      2                                  Leiden University   \n",
       "2  physics      2                               Amsterdam University   \n",
       "3  physics      2                                École Polytechnique   \n",
       "4  physics      4  École municipale de physique et de chimie indu...   \n",
       "\n",
       "  city_of_university country_of_university born_month  age  age_get_prize  \n",
       "0             Munich               Germany        Mar   78             56  \n",
       "1             Leiden       the Netherlands        Jul   75             49  \n",
       "2          Amsterdam       the Netherlands        May   78             37  \n",
       "3              Paris                France        Dec   56             51  \n",
       "4              Paris                France        May   47             44  "
      ]
     },
     "execution_count": 12,
     "metadata": {},
     "output_type": "execute_result"
    }
   ],
   "source": [
    "df = pd.read_csv(\"Onyx Data - DataDNA Dataset Challenge - April 2022 - Nobel Prize Winners.csv\")\n",
    "df.head(5)"
   ]
  },
  {
   "cell_type": "code",
   "execution_count": 13,
   "metadata": {
    "datalore": {
     "hide_input_from_viewers": false,
     "hide_output_from_viewers": false,
     "type": "CODE"
    }
   },
   "outputs": [
    {
     "data": {
      "text/plain": [
       "(923, 14)"
      ]
     },
     "execution_count": 13,
     "metadata": {},
     "output_type": "execute_result"
    }
   ],
   "source": [
    "df.shape"
   ]
  },
  {
   "cell_type": "code",
   "execution_count": 14,
   "metadata": {
    "datalore": {
     "hide_input_from_viewers": false,
     "hide_output_from_viewers": false,
     "type": "CODE"
    }
   },
   "outputs": [
    {
     "name": "stdout",
     "output_type": "stream",
     "text": [
      "<class 'pandas.core.frame.DataFrame'>\n",
      "RangeIndex: 923 entries, 0 to 922\n",
      "Data columns (total 14 columns):\n",
      " #   Column                 Non-Null Count  Dtype \n",
      "---  ------                 --------------  ----- \n",
      " 0   firstname              923 non-null    object\n",
      " 1   surname                921 non-null    object\n",
      " 2   born_country_code      923 non-null    object\n",
      " 3   died_country_code      617 non-null    object\n",
      " 4   gender                 923 non-null    object\n",
      " 5   year                   923 non-null    int64 \n",
      " 6   category               923 non-null    object\n",
      " 7   share                  923 non-null    int64 \n",
      " 8   name_of_university     697 non-null    object\n",
      " 9   city_of_university     692 non-null    object\n",
      " 10  country_of_university  693 non-null    object\n",
      " 11  born_month             923 non-null    object\n",
      " 12  age                    923 non-null    int64 \n",
      " 13  age_get_prize          923 non-null    int64 \n",
      "dtypes: int64(4), object(10)\n",
      "memory usage: 101.1+ KB\n"
     ]
    }
   ],
   "source": [
    "df.info()"
   ]
  },
  {
   "cell_type": "code",
   "execution_count": 15,
   "metadata": {
    "datalore": {
     "hide_input_from_viewers": false,
     "hide_output_from_viewers": false,
     "type": "CODE"
    }
   },
   "outputs": [
    {
     "data": {
      "text/plain": [
       "firstname                  0\n",
       "surname                    2\n",
       "born_country_code          0\n",
       "died_country_code        306\n",
       "gender                     0\n",
       "year                       0\n",
       "category                   0\n",
       "share                      0\n",
       "name_of_university       226\n",
       "city_of_university       231\n",
       "country_of_university    230\n",
       "born_month                 0\n",
       "age                        0\n",
       "age_get_prize              0\n",
       "dtype: int64"
      ]
     },
     "execution_count": 15,
     "metadata": {},
     "output_type": "execute_result"
    }
   ],
   "source": [
    "df.isnull().sum()"
   ]
  },
  {
   "cell_type": "code",
   "execution_count": 16,
   "metadata": {
    "datalore": {
     "hide_input_from_viewers": false,
     "hide_output_from_viewers": false,
     "type": "CODE"
    }
   },
   "outputs": [],
   "source": [
    "df[\"died_country_code\"].fillna(\"No Country of death\", inplace = True)\n",
    "df[\"name_of_university\"].fillna(\"No University name\", inplace = True)\n",
    "df[\"city_of_university\"].fillna(\"No University city\", inplace = True)\n",
    "df[\"country_of_university\"].fillna(\"No University country\", inplace = True)"
   ]
  },
  {
   "cell_type": "code",
   "execution_count": 17,
   "metadata": {
    "datalore": {
     "hide_input_from_viewers": false,
     "hide_output_from_viewers": false,
     "type": "CODE"
    }
   },
   "outputs": [
    {
     "data": {
      "text/plain": [
       "firstname                0\n",
       "surname                  2\n",
       "born_country_code        0\n",
       "died_country_code        0\n",
       "gender                   0\n",
       "year                     0\n",
       "category                 0\n",
       "share                    0\n",
       "name_of_university       0\n",
       "city_of_university       0\n",
       "country_of_university    0\n",
       "born_month               0\n",
       "age                      0\n",
       "age_get_prize            0\n",
       "dtype: int64"
      ]
     },
     "execution_count": 17,
     "metadata": {},
     "output_type": "execute_result"
    }
   ],
   "source": [
    "df.isnull().sum()"
   ]
  },
  {
   "attachments": {},
   "cell_type": "markdown",
   "metadata": {
    "datalore": {
     "hide_input_from_viewers": false,
     "hide_output_from_viewers": false,
     "type": "MD"
    }
   },
   "source": [
    "### Question 1: What countries have produced the most Nobel Price winners? (Top 10)**"
   ]
  },
  {
   "cell_type": "code",
   "execution_count": 18,
   "metadata": {
    "datalore": {
     "hide_input_from_viewers": false,
     "hide_output_from_viewers": false,
     "type": "CODE"
    }
   },
   "outputs": [
    {
     "data": {
      "text/html": [
       "<div>\n",
       "<style scoped>\n",
       "    .dataframe tbody tr th:only-of-type {\n",
       "        vertical-align: middle;\n",
       "    }\n",
       "\n",
       "    .dataframe tbody tr th {\n",
       "        vertical-align: top;\n",
       "    }\n",
       "\n",
       "    .dataframe thead th {\n",
       "        text-align: right;\n",
       "    }\n",
       "</style>\n",
       "<table border=\"1\" class=\"dataframe\">\n",
       "  <thead>\n",
       "    <tr style=\"text-align: right;\">\n",
       "      <th></th>\n",
       "      <th>English short name lower case</th>\n",
       "      <th>Alpha-2 code</th>\n",
       "      <th>Alpha-3 code</th>\n",
       "      <th>Numeric code</th>\n",
       "      <th>ISO 3166-2</th>\n",
       "    </tr>\n",
       "  </thead>\n",
       "  <tbody>\n",
       "    <tr>\n",
       "      <th>0</th>\n",
       "      <td>Zimbabwe</td>\n",
       "      <td>ZW</td>\n",
       "      <td>ZWE</td>\n",
       "      <td>716</td>\n",
       "      <td>ISO 3166-2:ZW</td>\n",
       "    </tr>\n",
       "    <tr>\n",
       "      <th>1</th>\n",
       "      <td>Zambia</td>\n",
       "      <td>ZM</td>\n",
       "      <td>ZMB</td>\n",
       "      <td>894</td>\n",
       "      <td>ISO 3166-2:ZM</td>\n",
       "    </tr>\n",
       "    <tr>\n",
       "      <th>2</th>\n",
       "      <td>Yemen</td>\n",
       "      <td>YE</td>\n",
       "      <td>YEM</td>\n",
       "      <td>887</td>\n",
       "      <td>ISO 3166-2:YE</td>\n",
       "    </tr>\n",
       "    <tr>\n",
       "      <th>3</th>\n",
       "      <td>Western Sahara</td>\n",
       "      <td>EH</td>\n",
       "      <td>ESH</td>\n",
       "      <td>732</td>\n",
       "      <td>ISO 3166-2:EH</td>\n",
       "    </tr>\n",
       "    <tr>\n",
       "      <th>4</th>\n",
       "      <td>Wallis and Futuna</td>\n",
       "      <td>WF</td>\n",
       "      <td>WLF</td>\n",
       "      <td>876</td>\n",
       "      <td>ISO 3166-2:WF</td>\n",
       "    </tr>\n",
       "  </tbody>\n",
       "</table>\n",
       "</div>"
      ],
      "text/plain": [
       "  English short name lower case Alpha-2 code Alpha-3 code  Numeric code  \\\n",
       "0                      Zimbabwe           ZW          ZWE           716   \n",
       "1                        Zambia           ZM          ZMB           894   \n",
       "2                         Yemen           YE          YEM           887   \n",
       "3                Western Sahara           EH          ESH           732   \n",
       "4             Wallis and Futuna           WF          WLF           876   \n",
       "\n",
       "      ISO 3166-2  \n",
       "0  ISO 3166-2:ZW  \n",
       "1  ISO 3166-2:ZM  \n",
       "2  ISO 3166-2:YE  \n",
       "3  ISO 3166-2:EH  \n",
       "4  ISO 3166-2:WF  "
      ]
     },
     "execution_count": 18,
     "metadata": {},
     "output_type": "execute_result"
    }
   ],
   "source": [
    "country_code = pd.read_csv(\"wikipedia-iso-country-codes (1).csv\")\n",
    "country_code.head()"
   ]
  },
  {
   "cell_type": "code",
   "execution_count": 19,
   "metadata": {
    "datalore": {
     "hide_input_from_viewers": false,
     "hide_output_from_viewers": false,
     "type": "CODE"
    }
   },
   "outputs": [
    {
     "data": {
      "text/html": [
       "<div>\n",
       "<style scoped>\n",
       "    .dataframe tbody tr th:only-of-type {\n",
       "        vertical-align: middle;\n",
       "    }\n",
       "\n",
       "    .dataframe tbody tr th {\n",
       "        vertical-align: top;\n",
       "    }\n",
       "\n",
       "    .dataframe thead th {\n",
       "        text-align: right;\n",
       "    }\n",
       "</style>\n",
       "<table border=\"1\" class=\"dataframe\">\n",
       "  <thead>\n",
       "    <tr style=\"text-align: right;\">\n",
       "      <th></th>\n",
       "      <th>firstname</th>\n",
       "      <th>surname</th>\n",
       "      <th>born_country_code</th>\n",
       "      <th>died_country_code</th>\n",
       "      <th>gender</th>\n",
       "      <th>year</th>\n",
       "      <th>category</th>\n",
       "      <th>share</th>\n",
       "      <th>name_of_university</th>\n",
       "      <th>city_of_university</th>\n",
       "      <th>country_of_university</th>\n",
       "      <th>born_month</th>\n",
       "      <th>age</th>\n",
       "      <th>age_get_prize</th>\n",
       "      <th>English short name lower case</th>\n",
       "      <th>Alpha-2 code</th>\n",
       "      <th>Alpha-3 code</th>\n",
       "      <th>Numeric code</th>\n",
       "      <th>ISO 3166-2</th>\n",
       "    </tr>\n",
       "  </thead>\n",
       "  <tbody>\n",
       "    <tr>\n",
       "      <th>0</th>\n",
       "      <td>Wilhelm Conrad</td>\n",
       "      <td>Röntgen</td>\n",
       "      <td>DE</td>\n",
       "      <td>DE</td>\n",
       "      <td>male</td>\n",
       "      <td>1901</td>\n",
       "      <td>physics</td>\n",
       "      <td>1</td>\n",
       "      <td>Munich University</td>\n",
       "      <td>Munich</td>\n",
       "      <td>Germany</td>\n",
       "      <td>Mar</td>\n",
       "      <td>78</td>\n",
       "      <td>56</td>\n",
       "      <td>Germany</td>\n",
       "      <td>DE</td>\n",
       "      <td>DEU</td>\n",
       "      <td>276</td>\n",
       "      <td>ISO 3166-2:DE</td>\n",
       "    </tr>\n",
       "    <tr>\n",
       "      <th>1</th>\n",
       "      <td>Hendrik A.</td>\n",
       "      <td>Lorentz</td>\n",
       "      <td>NL</td>\n",
       "      <td>NL</td>\n",
       "      <td>male</td>\n",
       "      <td>1902</td>\n",
       "      <td>physics</td>\n",
       "      <td>2</td>\n",
       "      <td>Leiden University</td>\n",
       "      <td>Leiden</td>\n",
       "      <td>the Netherlands</td>\n",
       "      <td>Jul</td>\n",
       "      <td>75</td>\n",
       "      <td>49</td>\n",
       "      <td>Netherlands</td>\n",
       "      <td>NL</td>\n",
       "      <td>NLD</td>\n",
       "      <td>528</td>\n",
       "      <td>ISO 3166-2:NL</td>\n",
       "    </tr>\n",
       "    <tr>\n",
       "      <th>2</th>\n",
       "      <td>Pieter</td>\n",
       "      <td>Zeeman</td>\n",
       "      <td>NL</td>\n",
       "      <td>NL</td>\n",
       "      <td>male</td>\n",
       "      <td>1902</td>\n",
       "      <td>physics</td>\n",
       "      <td>2</td>\n",
       "      <td>Amsterdam University</td>\n",
       "      <td>Amsterdam</td>\n",
       "      <td>the Netherlands</td>\n",
       "      <td>May</td>\n",
       "      <td>78</td>\n",
       "      <td>37</td>\n",
       "      <td>Netherlands</td>\n",
       "      <td>NL</td>\n",
       "      <td>NLD</td>\n",
       "      <td>528</td>\n",
       "      <td>ISO 3166-2:NL</td>\n",
       "    </tr>\n",
       "    <tr>\n",
       "      <th>3</th>\n",
       "      <td>Henri</td>\n",
       "      <td>Becquerel</td>\n",
       "      <td>FR</td>\n",
       "      <td>FR</td>\n",
       "      <td>male</td>\n",
       "      <td>1903</td>\n",
       "      <td>physics</td>\n",
       "      <td>2</td>\n",
       "      <td>École Polytechnique</td>\n",
       "      <td>Paris</td>\n",
       "      <td>France</td>\n",
       "      <td>Dec</td>\n",
       "      <td>56</td>\n",
       "      <td>51</td>\n",
       "      <td>France</td>\n",
       "      <td>FR</td>\n",
       "      <td>FRA</td>\n",
       "      <td>250</td>\n",
       "      <td>ISO 3166-2:FR</td>\n",
       "    </tr>\n",
       "    <tr>\n",
       "      <th>4</th>\n",
       "      <td>Pierre</td>\n",
       "      <td>Curie</td>\n",
       "      <td>FR</td>\n",
       "      <td>FR</td>\n",
       "      <td>male</td>\n",
       "      <td>1903</td>\n",
       "      <td>physics</td>\n",
       "      <td>4</td>\n",
       "      <td>École municipale de physique et de chimie indu...</td>\n",
       "      <td>Paris</td>\n",
       "      <td>France</td>\n",
       "      <td>May</td>\n",
       "      <td>47</td>\n",
       "      <td>44</td>\n",
       "      <td>France</td>\n",
       "      <td>FR</td>\n",
       "      <td>FRA</td>\n",
       "      <td>250</td>\n",
       "      <td>ISO 3166-2:FR</td>\n",
       "    </tr>\n",
       "  </tbody>\n",
       "</table>\n",
       "</div>"
      ],
      "text/plain": [
       "        firstname    surname born_country_code died_country_code gender  year  \\\n",
       "0  Wilhelm Conrad    Röntgen                DE                DE   male  1901   \n",
       "1      Hendrik A.    Lorentz                NL                NL   male  1902   \n",
       "2          Pieter     Zeeman                NL                NL   male  1902   \n",
       "3           Henri  Becquerel                FR                FR   male  1903   \n",
       "4          Pierre      Curie                FR                FR   male  1903   \n",
       "\n",
       "  category  share                                 name_of_university  \\\n",
       "0  physics      1                                  Munich University   \n",
       "1  physics      2                                  Leiden University   \n",
       "2  physics      2                               Amsterdam University   \n",
       "3  physics      2                                École Polytechnique   \n",
       "4  physics      4  École municipale de physique et de chimie indu...   \n",
       "\n",
       "  city_of_university country_of_university born_month  age  age_get_prize  \\\n",
       "0             Munich               Germany        Mar   78             56   \n",
       "1             Leiden       the Netherlands        Jul   75             49   \n",
       "2          Amsterdam       the Netherlands        May   78             37   \n",
       "3              Paris                France        Dec   56             51   \n",
       "4              Paris                France        May   47             44   \n",
       "\n",
       "  English short name lower case Alpha-2 code Alpha-3 code  Numeric code  \\\n",
       "0                       Germany           DE          DEU           276   \n",
       "1                   Netherlands           NL          NLD           528   \n",
       "2                   Netherlands           NL          NLD           528   \n",
       "3                        France           FR          FRA           250   \n",
       "4                        France           FR          FRA           250   \n",
       "\n",
       "      ISO 3166-2  \n",
       "0  ISO 3166-2:DE  \n",
       "1  ISO 3166-2:NL  \n",
       "2  ISO 3166-2:NL  \n",
       "3  ISO 3166-2:FR  \n",
       "4  ISO 3166-2:FR  "
      ]
     },
     "execution_count": 19,
     "metadata": {},
     "output_type": "execute_result"
    }
   ],
   "source": [
    "df1 = df.merge(country_code,\n",
    "    left_on='born_country_code',\n",
    "    right_on='Alpha-2 code',\n",
    "    how='left'\n",
    ")\n",
    "\n",
    "df1.head(5)"
   ]
  },
  {
   "cell_type": "code",
   "execution_count": 20,
   "metadata": {
    "datalore": {
     "hide_input_from_viewers": false,
     "hide_output_from_viewers": false,
     "type": "CODE"
    }
   },
   "outputs": [
    {
     "name": "stdout",
     "output_type": "stream",
     "text": [
      "<class 'pandas.core.frame.DataFrame'>\n",
      "Int64Index: 923 entries, 0 to 922\n",
      "Data columns (total 16 columns):\n",
      " #   Column                         Non-Null Count  Dtype \n",
      "---  ------                         --------------  ----- \n",
      " 0   firstname                      923 non-null    object\n",
      " 1   surname                        921 non-null    object\n",
      " 2   born_country_code              923 non-null    object\n",
      " 3   died_country_code              923 non-null    object\n",
      " 4   gender                         923 non-null    object\n",
      " 5   year                           923 non-null    int64 \n",
      " 6   category                       923 non-null    object\n",
      " 7   share                          923 non-null    int64 \n",
      " 8   name_of_university             923 non-null    object\n",
      " 9   city_of_university             923 non-null    object\n",
      " 10  country_of_university          923 non-null    object\n",
      " 11  born_month                     923 non-null    object\n",
      " 12  age                            923 non-null    int64 \n",
      " 13  age_get_prize                  923 non-null    int64 \n",
      " 14  English short name lower case  923 non-null    object\n",
      " 15  Alpha-2 code                   923 non-null    object\n",
      "dtypes: int64(4), object(12)\n",
      "memory usage: 122.6+ KB\n"
     ]
    }
   ],
   "source": [
    "df1.drop(columns=['ISO 3166-2', 'Numeric code', 'Alpha-3 code'], inplace=True)\n",
    "df1.info()"
   ]
  },
  {
   "cell_type": "code",
   "execution_count": 21,
   "metadata": {
    "datalore": {
     "hide_input_from_viewers": false,
     "hide_output_from_viewers": false,
     "type": "CODE"
    }
   },
   "outputs": [
    {
     "name": "stdout",
     "output_type": "stream",
     "text": [
      "<class 'pandas.core.frame.DataFrame'>\n",
      "Int64Index: 923 entries, 0 to 922\n",
      "Data columns (total 16 columns):\n",
      " #   Column                 Non-Null Count  Dtype \n",
      "---  ------                 --------------  ----- \n",
      " 0   firstname              923 non-null    object\n",
      " 1   surname                921 non-null    object\n",
      " 2   born_country_code      923 non-null    object\n",
      " 3   died_country_code      923 non-null    object\n",
      " 4   gender                 923 non-null    object\n",
      " 5   year                   923 non-null    int64 \n",
      " 6   category               923 non-null    object\n",
      " 7   share                  923 non-null    int64 \n",
      " 8   name_of_university     923 non-null    object\n",
      " 9   city_of_university     923 non-null    object\n",
      " 10  country_of_university  923 non-null    object\n",
      " 11  born_month             923 non-null    object\n",
      " 12  age                    923 non-null    int64 \n",
      " 13  age_get_prize          923 non-null    int64 \n",
      " 14  Country_of_Birth       923 non-null    object\n",
      " 15  Alpha-2 code           923 non-null    object\n",
      "dtypes: int64(4), object(12)\n",
      "memory usage: 122.6+ KB\n"
     ]
    }
   ],
   "source": [
    "df1.rename(columns={'English short name lower case': 'Country_of_Birth'}, inplace=True)\n",
    "df1.info()"
   ]
  },
  {
   "cell_type": "code",
   "execution_count": 22,
   "metadata": {
    "datalore": {
     "hide_input_from_viewers": false,
     "hide_output_from_viewers": false,
     "type": "CODE"
    }
   },
   "outputs": [
    {
     "data": {
      "text/plain": [
       "Country_of_Birth\n",
       "Austria                   18\n",
       "Australia                 10\n",
       "Belgium                    9\n",
       "Argentina                  4\n",
       "Belarus                    4\n",
       "Algeria                    2\n",
       "Bosnia and Herzegovina     2\n",
       "Azerbaijan                 1\n",
       "Bangladesh                 1\n",
       "Brazil                     1\n",
       "Name: surname, dtype: int64"
      ]
     },
     "execution_count": 22,
     "metadata": {},
     "output_type": "execute_result"
    }
   ],
   "source": [
    "Winner_per_country = df1.groupby('Country_of_Birth')['surname'].count().head(10).sort_values(ascending=False)\n",
    "Winner_per_country"
   ]
  },
  {
   "cell_type": "code",
   "execution_count": 23,
   "metadata": {
    "datalore": {
     "hide_input_from_viewers": false,
     "hide_output_from_viewers": false,
     "type": "CODE"
    }
   },
   "outputs": [
    {
     "data": {
      "image/png": "[encoded data removed]",
      "text/plain": [
       "<Figure size 1080x360 with 1 Axes>"
      ]
     },
     "metadata": {
      "needs_background": "light"
     },
     "output_type": "display_data"
    }
   ],
   "source": [
    "Winner_per_country.plot(\n",
    "    kind=\"bar\",\n",
    "    figsize=(15, 5),\n",
    "    ylabel=\"Number of Nobel Price Winners\",\n",
    "    xlabel=\"Countries\",\n",
    "    color=\"red\",\n",
    ");"
   ]
  },
  {
   "cell_type": "code",
   "execution_count": null,
   "metadata": {
    "datalore": {
     "hide_input_from_viewers": false,
     "hide_output_from_viewers": false,
     "type": "CODE"
    }
   },
   "outputs": [],
   "source": []
  }
 ],
 "metadata": {
  "datalore": {
   "base_environment": "default",
   "computation_mode": "REACTIVE",
   "package_manager": "pip",
   "packages": [],
   "version": 1
  },
  "interpreter": {
   "hash": "8df49f75ea1230b7d03894cb6bd74ef00e2276bf7348093dadb65bc9ba7cc014"
  },
  "kernelspec": {
   "display_name": "Python 3.9.7 ('base')",
   "language": "python",
   "name": "python3"
  },
  "language_info": {
   "codemirror_mode": {
    "name": "ipython",
    "version": 3
   },
   "file_extension": ".py",
   "mimetype": "text/x-python",
   "name": "python",
   "nbconvert_exporter": "python",
   "pygments_lexer": "ipython3",
   "version": "3.9.7"
  }
 },
 "nbformat": 4,
 "nbformat_minor": 4
}
